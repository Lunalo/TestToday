{
 "cells": [
  {
   "cell_type": "code",
   "execution_count": 1,
   "id": "fb6cbcc4",
   "metadata": {},
   "outputs": [],
   "source": [
    "nams = [\"John\", \"Jane\", \"Richard\"]"
   ]
  },
  {
   "cell_type": "code",
   "execution_count": 2,
   "id": "5dfd4b9b",
   "metadata": {},
   "outputs": [
    {
     "data": {
      "text/plain": [
       "0"
      ]
     },
     "execution_count": 2,
     "metadata": {},
     "output_type": "execute_result"
    }
   ],
   "source": [
    "nams.index(\"John\")"
   ]
  },
  {
   "cell_type": "code",
   "execution_count": 3,
   "id": "a7119e84",
   "metadata": {},
   "outputs": [
    {
     "name": "stdout",
     "output_type": "stream",
     "text": [
      "0\n",
      "1\n",
      "2\n"
     ]
    }
   ],
   "source": [
    "for nam in nams:\n",
    "    print(nams.index(nam))"
   ]
  },
  {
   "cell_type": "code",
   "execution_count": 4,
   "id": "2cf26f42",
   "metadata": {},
   "outputs": [
    {
     "data": {
      "text/plain": [
       "[0, 1, 2]"
      ]
     },
     "execution_count": 4,
     "metadata": {},
     "output_type": "execute_result"
    }
   ],
   "source": [
    "lst_index = []\n",
    "for nam in nams:\n",
    "     lst_index.append(nams.index(nam))\n",
    "\n",
    "lst_index"
   ]
  },
  {
   "cell_type": "markdown",
   "id": "060973ab",
   "metadata": {},
   "source": [
    "## list comprehension option"
   ]
  },
  {
   "cell_type": "code",
   "execution_count": 83,
   "id": "99fd459a",
   "metadata": {},
   "outputs": [
    {
     "data": {
      "text/plain": [
       "[0, 1, 2]"
      ]
     },
     "execution_count": 83,
     "metadata": {},
     "output_type": "execute_result"
    }
   ],
   "source": [
    "[nams.index(nam) for nam in nams]"
   ]
  },
  {
   "cell_type": "code",
   "execution_count": 5,
   "id": "55fcbcd2",
   "metadata": {},
   "outputs": [
    {
     "name": "stdout",
     "output_type": "stream",
     "text": [
      "['KK', 'LL', 'PP']\n"
     ]
    }
   ],
   "source": [
    "sas= [\"kk\",\"ll\",\"pp\"]\n",
    "uppersas=[]\n",
    "for sa in sas:\n",
    "    uppersas.append(sa.upper())\n",
    "#print(uppersas)"
   ]
  },
  {
   "cell_type": "code",
   "execution_count": 87,
   "id": "85523684",
   "metadata": {},
   "outputs": [
    {
     "data": {
      "text/plain": [
       "['KK', 'LL', 'PP']"
      ]
     },
     "execution_count": 87,
     "metadata": {},
     "output_type": "execute_result"
    }
   ],
   "source": [
    "[sa.upper() for sa in sas]"
   ]
  },
  {
   "cell_type": "code",
   "execution_count": 6,
   "id": "6c18c68f",
   "metadata": {},
   "outputs": [],
   "source": [
    "names = \"John\""
   ]
  },
  {
   "cell_type": "code",
   "execution_count": 7,
   "id": "95c04740",
   "metadata": {},
   "outputs": [],
   "source": [
    "import pandas as pd\n",
    "\n",
    "data_df = pd.DataFrame(\n",
    "\n",
    "    {\n",
    "      \"name\" : [\"K\", \"Y\", \"Z\"],\n",
    "        \"age\" : [12, 13,14]\n",
    "        \n",
    "    }\n",
    "\n",
    ")"
   ]
  },
  {
   "cell_type": "code",
   "execution_count": 14,
   "id": "fb385a47",
   "metadata": {},
   "outputs": [],
   "source": [
    "sas= [\"kk\",\"ll\",\"pp\"]\n",
    "uppersas=[]"
   ]
  },
  {
   "cell_type": "code",
   "execution_count": 15,
   "id": "a862a227",
   "metadata": {},
   "outputs": [
    {
     "data": {
      "text/plain": [
       "['KK', 'LL', 'PP']"
      ]
     },
     "execution_count": 15,
     "metadata": {},
     "output_type": "execute_result"
    }
   ],
   "source": [
    "for ind in range(len(sas)):\n",
    "    uppersas.append(sas[ind].upper())\n",
    "uppersas"
   ]
  },
  {
   "cell_type": "code",
   "execution_count": 77,
   "id": "e0397e73",
   "metadata": {},
   "outputs": [],
   "source": [
    "nums=[1,4,18,19,11,23,27,23]\n",
    "\n",
    "prime_numbers = []\n",
    "\n",
    "for num in nums:\n",
    "    iterate_val = range(1,num-1)\n",
    "    dummy_list =[]\n",
    "    for p in iterate_val:\n",
    "        if   num%p==0 and p>1:\n",
    "            dummy_list.append(p)\n",
    "    if(len(dummy_list))<1:\n",
    "        prime_numbers.append(num)\n",
    "        \n",
    "\n",
    " \n",
    "    "
   ]
  },
  {
   "cell_type": "code",
   "execution_count": 94,
   "id": "fba8e72b",
   "metadata": {},
   "outputs": [
    {
     "data": {
      "text/plain": [
       "[1, 2, 3, 5, 7, 11, 13, 17, 19, 23, 29, 31, 37, 41, 43, 47]"
      ]
     },
     "execution_count": 94,
     "metadata": {},
     "output_type": "execute_result"
    }
   ],
   "source": [
    "nums=range(1,51)\n",
    "[num for num in nums if \n",
    " len([p for p in range(1, num-1) if num%p==0 and p>1])<1]"
   ]
  },
  {
   "cell_type": "code",
   "execution_count": 97,
   "id": "e88fb9db",
   "metadata": {},
   "outputs": [],
   "source": [
    "def prime_vals(n):\n",
    "    nums = range(1,n+1)\n",
    "    prime_vals = [num for num in nums if \n",
    "    len([p for p in range(1, num-1) if num%p==0 and p>1])<1]\n",
    "    return(prime_vals)"
   ]
  },
  {
   "cell_type": "code",
   "execution_count": 99,
   "id": "920e7cbc",
   "metadata": {},
   "outputs": [],
   "source": [
    "#prime_vals(100)"
   ]
  },
  {
   "cell_type": "code",
   "execution_count": 81,
   "id": "ef75f0ef",
   "metadata": {},
   "outputs": [
    {
     "data": {
      "text/plain": [
       "[4, 18]"
      ]
     },
     "execution_count": 81,
     "metadata": {},
     "output_type": "execute_result"
    }
   ],
   "source": [
    "even_list = []\n",
    "for num in nums:\n",
    "    if num%2 ==0:\n",
    "        even_list.append(num)\n",
    "even_list"
   ]
  },
  {
   "cell_type": "code",
   "execution_count": 100,
   "id": "31d070e2",
   "metadata": {},
   "outputs": [],
   "source": [
    "def even_val(n):\n",
    "    nums = range(1, n+1)\n",
    "    even_final = [num for num in nums if num%2==0]\n",
    "    return(even_final)"
   ]
  },
  {
   "cell_type": "code",
   "execution_count": 102,
   "id": "7d86fd42",
   "metadata": {},
   "outputs": [
    {
     "data": {
      "text/plain": [
       "[1, 3, 5, 7, 9]"
      ]
     },
     "execution_count": 102,
     "metadata": {},
     "output_type": "execute_result"
    }
   ],
   "source": [
    "def odd_val(n):\n",
    "    nums = range(1, n+1)\n",
    "    odd_final = [num for num in nums if not num%2==0]\n",
    "    return(odd_final)\n",
    "\n",
    "odd_val(10)"
   ]
  },
  {
   "cell_type": "code",
   "execution_count": 90,
   "id": "f486f786",
   "metadata": {},
   "outputs": [
    {
     "data": {
      "text/plain": [
       "[4, 18]"
      ]
     },
     "execution_count": 90,
     "metadata": {},
     "output_type": "execute_result"
    }
   ],
   "source": [
    "ven_comp = [num for num in nums if num%2==0]\n",
    "ven_comp"
   ]
  },
  {
   "cell_type": "code",
   "execution_count": 82,
   "id": "b89452b1",
   "metadata": {},
   "outputs": [
    {
     "data": {
      "text/plain": [
       "[1, 19, 11, 23, 27, 23]"
      ]
     },
     "execution_count": 82,
     "metadata": {},
     "output_type": "execute_result"
    }
   ],
   "source": [
    "odd_list = []\n",
    "for num in nums:\n",
    "    if not num%2 ==0:\n",
    "        odd_list.append(num)\n",
    "odd_list"
   ]
  },
  {
   "cell_type": "code",
   "execution_count": 92,
   "id": "d8f33b89",
   "metadata": {},
   "outputs": [
    {
     "data": {
      "text/plain": [
       "[1, 19, 11, 23, 27, 23]"
      ]
     },
     "execution_count": 92,
     "metadata": {},
     "output_type": "execute_result"
    }
   ],
   "source": [
    "odd_comp = [num for num in nums if num%2!=0]\n",
    "odd_comp\n"
   ]
  },
  {
   "cell_type": "code",
   "execution_count": 105,
   "id": "5181213b",
   "metadata": {},
   "outputs": [],
   "source": [
    "nams = nams\n",
    "index_val = [i for i in range(len(nams))]"
   ]
  },
  {
   "cell_type": "code",
   "execution_count": 106,
   "id": "b78e3492",
   "metadata": {},
   "outputs": [
    {
     "data": {
      "text/plain": [
       "['John', 'Jane', 'Richard']"
      ]
     },
     "execution_count": 106,
     "metadata": {},
     "output_type": "execute_result"
    }
   ],
   "source": [
    "nams"
   ]
  },
  {
   "cell_type": "code",
   "execution_count": 108,
   "id": "3fb86e58",
   "metadata": {},
   "outputs": [
    {
     "data": {
      "text/plain": [
       "<zip at 0x7fe4419b5c40>"
      ]
     },
     "execution_count": 108,
     "metadata": {},
     "output_type": "execute_result"
    }
   ],
   "source": [
    "zip(nams, index_val)"
   ]
  },
  {
   "cell_type": "code",
   "execution_count": 112,
   "id": "a7880f62",
   "metadata": {},
   "outputs": [],
   "source": [
    "dict_val = {k:v for k,v in zip(nams, index_val)}"
   ]
  },
  {
   "cell_type": "code",
   "execution_count": 120,
   "id": "b5dc21de",
   "metadata": {},
   "outputs": [],
   "source": [
    "def createDictFromList(list1, list2):\n",
    "    zipped_obj = zip(list1, list2)\n",
    "    return({\n",
    "        k:v for k, v in zipped_obj\n",
    "    })"
   ]
  },
  {
   "cell_type": "code",
   "execution_count": 121,
   "id": "70e9dc08",
   "metadata": {},
   "outputs": [
    {
     "data": {
      "text/plain": [
       "{'John': 0, 'Jane': 1, 'Richard': 2}"
      ]
     },
     "execution_count": 121,
     "metadata": {},
     "output_type": "execute_result"
    }
   ],
   "source": [
    "createDictFromList(nams, index_val)"
   ]
  },
  {
   "cell_type": "code",
   "execution_count": 122,
   "id": "1314c167",
   "metadata": {},
   "outputs": [
    {
     "data": {
      "text/plain": [
       "[1, 4, 9, 16, 25]"
      ]
     },
     "execution_count": 122,
     "metadata": {},
     "output_type": "execute_result"
    }
   ],
   "source": [
    "int_list =[1, 2, 3, 4, 5]\n",
    "[i**2 for i in int_list]"
   ]
  },
  {
   "cell_type": "code",
   "execution_count": 123,
   "id": "e9e310e3",
   "metadata": {},
   "outputs": [
    {
     "data": {
      "text/plain": [
       "[1, 8, 27, 64, 125]"
      ]
     },
     "execution_count": 123,
     "metadata": {},
     "output_type": "execute_result"
    }
   ],
   "source": [
    "[i**3 for i in int_list]"
   ]
  },
  {
   "cell_type": "code",
   "execution_count": 124,
   "id": "946d4bc1",
   "metadata": {},
   "outputs": [
    {
     "data": {
      "text/plain": [
       "[1, 4, 27, 256, 3125]"
      ]
     },
     "execution_count": 124,
     "metadata": {},
     "output_type": "execute_result"
    }
   ],
   "source": [
    "[i**i for i in int_list]"
   ]
  },
  {
   "cell_type": "code",
   "execution_count": 138,
   "id": "4447e987",
   "metadata": {},
   "outputs": [],
   "source": [
    "import numpy as np\n",
    "def custom_pow1(list_val, pow_val=np.nan):\n",
    "    \n",
    "    if np.isnan(pow_val):\n",
    "        return_obj =  [i**i for i in list_val]\n",
    "    else:\n",
    "        return_obj =[i**pow_val for i in list_val]\n",
    "    return(return_obj)\n",
    "            "
   ]
  },
  {
   "cell_type": "code",
   "execution_count": 139,
   "id": "e5db132e",
   "metadata": {},
   "outputs": [
    {
     "data": {
      "text/plain": [
       "[1, 4, 27, 256, 3125]"
      ]
     },
     "execution_count": 139,
     "metadata": {},
     "output_type": "execute_result"
    }
   ],
   "source": [
    "custom_pow1(int_list)"
   ]
  },
  {
   "cell_type": "code",
   "execution_count": 140,
   "id": "fe67a326",
   "metadata": {},
   "outputs": [
    {
     "data": {
      "text/plain": [
       "[1, 8, 27, 64, 125]"
      ]
     },
     "execution_count": 140,
     "metadata": {},
     "output_type": "execute_result"
    }
   ],
   "source": [
    "custom_pow1(int_list, pow_val=3)"
   ]
  },
  {
   "cell_type": "code",
   "execution_count": 141,
   "id": "1b9b6048",
   "metadata": {},
   "outputs": [
    {
     "data": {
      "text/plain": [
       "[20, 30]"
      ]
     },
     "execution_count": 141,
     "metadata": {},
     "output_type": "execute_result"
    }
   ],
   "source": [
    "[ i for i in  [15, 20, 25, 30, 35] if i%2==0 and i >1]"
   ]
  },
  {
   "cell_type": "markdown",
   "id": "e5b59209",
   "metadata": {},
   "source": [
    "### Write a list comprehenion/for loop that retuns every 4th vlaue in  range of 1 to 100"
   ]
  },
  {
   "cell_type": "code",
   "execution_count": 149,
   "id": "638ef751",
   "metadata": {},
   "outputs": [],
   "source": [
    "range_1=range(1,100+1)\n",
    "fourth_values=[y for y in range_1 if y%4==0]\n",
    "#fourth_values\n",
    "#range_1"
   ]
  },
  {
   "cell_type": "markdown",
   "id": "c5ca96e3",
   "metadata": {},
   "source": [
    "### You have a list of strings, [\"apple\", \"banana\", \"cherry\"]. Write a list comprehension that converts each string to uppercase."
   ]
  },
  {
   "cell_type": "code",
   "execution_count": 151,
   "id": "f094557d",
   "metadata": {},
   "outputs": [
    {
     "name": "stdout",
     "output_type": "stream",
     "text": [
      "['APPLE', 'BANANA', 'CHERRY']\n"
     ]
    }
   ],
   "source": [
    "fruits = [\"apple\", \"banana\",\"cherry\"]\n",
    "upper_case_fruits = [fruit.upper() for fruit in fruits]\n",
    "print(upper_case_fruits)"
   ]
  },
  {
   "cell_type": "markdown",
   "id": "92ece846",
   "metadata": {},
   "source": [
    " ### Now create a dictionary comprehension  to output the fruit as key and length of each character in the fruit as value"
   ]
  },
  {
   "cell_type": "code",
   "execution_count": 171,
   "id": "5587d8e6",
   "metadata": {},
   "outputs": [
    {
     "data": {
      "text/plain": [
       "{'apple': 5, 'banana': 6, 'cherry': 6}"
      ]
     },
     "execution_count": 171,
     "metadata": {},
     "output_type": "execute_result"
    }
   ],
   "source": [
    "dict = {fruit: len(fruit) for fruit in fruits}\n",
    "dict"
   ]
  },
  {
   "cell_type": "code",
   "execution_count": 154,
   "id": "d9ff2fcf",
   "metadata": {},
   "outputs": [],
   "source": [
    "import random  as rn"
   ]
  },
  {
   "cell_type": "code",
   "execution_count": 166,
   "id": "23bd038b",
   "metadata": {},
   "outputs": [],
   "source": [
    "x_list = [rn.randint(200, 1000) for i in range(1, 100)]"
   ]
  },
  {
   "cell_type": "code",
   "execution_count": 167,
   "id": "eb941b49",
   "metadata": {},
   "outputs": [
    {
     "data": {
      "text/plain": [
       "[665,\n",
       " 983,\n",
       " 783,\n",
       " 686,\n",
       " 934,\n",
       " 871,\n",
       " 449,\n",
       " 397,\n",
       " 807,\n",
       " 256,\n",
       " 257,\n",
       " 358,\n",
       " 305,\n",
       " 733,\n",
       " 841,\n",
       " 629,\n",
       " 225,\n",
       " 748,\n",
       " 954,\n",
       " 662,\n",
       " 935,\n",
       " 799,\n",
       " 968,\n",
       " 559,\n",
       " 495]"
      ]
     },
     "execution_count": 167,
     "metadata": {},
     "output_type": "execute_result"
    }
   ],
   "source": [
    "\n",
    "#x_list.insert(0, np.nan)\n",
    "[x_list[i] for i in range(0,100) if i%4==0]"
   ]
  },
  {
   "cell_type": "markdown",
   "id": "b95972b7",
   "metadata": {},
   "source": [
    "Given a list of numbers [1, 2, 3, 4, 5, 6], write a single list comprehension that returns: \n",
    "\"even\" for each even number, and\n",
    "\"odd\" for each odd number.\n"
   ]
  },
  {
   "cell_type": "code",
   "execution_count": 174,
   "id": "42a09e0e",
   "metadata": {},
   "outputs": [
    {
     "name": "stdout",
     "output_type": "stream",
     "text": [
      "[(2, 'even'), (4, 'even'), (6, 'even')]\n"
     ]
    }
   ],
   "source": [
    "number = [1,2,3,4,5,6]\n",
    "even_list= [(num,\"even\") for num in number if num%2==0]\n",
    "print(even_list)"
   ]
  },
  {
   "cell_type": "code",
   "execution_count": 177,
   "id": "c6113988",
   "metadata": {},
   "outputs": [],
   "source": [
    "type_val = [\"even\" if i%2==0 and i>1 else \"odd\" for i in [1, 2, 3, 4, 5, 6]]"
   ]
  },
  {
   "cell_type": "code",
   "execution_count": 178,
   "id": "68332140",
   "metadata": {},
   "outputs": [
    {
     "data": {
      "text/plain": [
       "{1: 'odd', 2: 'even', 3: 'odd', 4: 'even', 5: 'odd', 6: 'even'}"
      ]
     },
     "execution_count": 178,
     "metadata": {},
     "output_type": "execute_result"
    }
   ],
   "source": [
    "{\n",
    "    k:v for k,v in zip(number, type_val)\n",
    "}"
   ]
  },
  {
   "cell_type": "markdown",
   "id": "744db454",
   "metadata": {},
   "source": [
    "5a Suppose you have a list of words like [\"John\", \"Jane\", \"Erick\", \"Benard\", \"Comprehension\"]. Write a list comprehension that extracts the first letter from each word."
   ]
  },
  {
   "cell_type": "code",
   "execution_count": 184,
   "id": "57c85bac",
   "metadata": {},
   "outputs": [],
   "source": [
    "names = [\"John\", \"Jane\", \"Erick\", \"Benard\", \"Comprehension\"]\n",
    "first_char = [i[0] for i in names]"
   ]
  },
  {
   "cell_type": "markdown",
   "id": "8a5841ec",
   "metadata": {},
   "source": [
    "Save the outputs as dictionary using dictionary comprehension to show the name of each individual as key and first charatcer as value"
   ]
  },
  {
   "cell_type": "code",
   "execution_count": 185,
   "id": "565e5e80",
   "metadata": {},
   "outputs": [
    {
     "data": {
      "text/plain": [
       "{'John': 'J', 'Jane': 'J', 'Erick': 'E', 'Benard': 'B', 'Comprehension': 'C'}"
      ]
     },
     "execution_count": 185,
     "metadata": {},
     "output_type": "execute_result"
    }
   ],
   "source": [
    "{\n",
    "    k:v for k,v in zip(names, first_char)\n",
    "}"
   ]
  },
  {
   "cell_type": "markdown",
   "id": "d4b6d6de",
   "metadata": {},
   "source": [
    "6. Using a lists and dictionary of your choice, create  a dictionary containing 4 lists (full name, age, wight, location, gender) of 10 students."
   ]
  },
  {
   "cell_type": "code",
   "execution_count": 188,
   "id": "2e37d405",
   "metadata": {},
   "outputs": [
    {
     "data": {
      "text/plain": [
       "{'Fullname': ['Kasongo Kaongo', 'Patience Precious', 'Chapati Chafua'],\n",
       " 'Age': [54, 35, 18],\n",
       " 'Weight': [82, 70, 63],\n",
       " 'Location': ['Eldoret North', 'Gatundu', 'Butere'],\n",
       " 'Gender': ['Male', 'Female', 'Male']}"
      ]
     },
     "execution_count": 188,
     "metadata": {},
     "output_type": "execute_result"
    }
   ],
   "source": [
    "FullNames=[\"Kasongo Kaongo\",\"Patience Precious\",\"Chapati Chafua\"]\n",
    "Ages=[54,35,18]\n",
    "Weight=[82,70,63]\n",
    "Location=[\"Eldoret North\",\"Gatundu\",\"Butere\"]\n",
    "Genders=[\"Male\",\"Female\",\"Male\"]\n",
    "student_details={\"Fullname\":FullNames,\n",
    "                \"Age\":Ages,\n",
    "                \"Weight\":Weight,\n",
    "                \"Location\":Location,\n",
    "                \"Gender\":Genders}\n",
    "student_details\n",
    "          "
   ]
  },
  {
   "cell_type": "code",
   "execution_count": 189,
   "id": "102774b1",
   "metadata": {},
   "outputs": [
    {
     "name": "stdout",
     "output_type": "stream",
     "text": [
      "            Fullname  Age  Weight       Location  Gender\n",
      "0     Kasongo Kaongo   54      82  Eldoret North    Male\n",
      "1  Patience Precious   35      70        Gatundu  Female\n",
      "2     Chapati Chafua   18      63         Butere    Male\n"
     ]
    }
   ],
   "source": [
    "import pandas as pd\n",
    "df_student=pd.DataFrame(student_details)\n",
    "print(df_student)"
   ]
  },
  {
   "cell_type": "code",
   "execution_count": null,
   "id": "68dde86e",
   "metadata": {},
   "outputs": [],
   "source": []
  }
 ],
 "metadata": {
  "kernelspec": {
   "display_name": "Python 3 (ipykernel)",
   "language": "python",
   "name": "python3"
  },
  "language_info": {
   "codemirror_mode": {
    "name": "ipython",
    "version": 3
   },
   "file_extension": ".py",
   "mimetype": "text/x-python",
   "name": "python",
   "nbconvert_exporter": "python",
   "pygments_lexer": "ipython3",
   "version": "3.9.7"
  }
 },
 "nbformat": 4,
 "nbformat_minor": 5
}
