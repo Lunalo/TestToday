{
 "cells": [
  {
   "cell_type": "code",
   "execution_count": null,
   "id": "3881beda",
   "metadata": {},
   "outputs": [],
   "source": [
    "###Personal Details"
   ]
  },
  {
   "cell_type": "code",
   "execution_count": 1,
   "id": "d7c90ddf",
   "metadata": {},
   "outputs": [],
   "source": [
    "john= {\n",
    "    \"fullname\":\"John Ongala Lunalo\",\n",
    "    \"age\" : 18,\n",
    "    \"country\": \"Kenya\",\n",
    "    \"Marrital status\": \"Complicated\"\n",
    ",}"
   ]
  },
  {
   "cell_type": "code",
   "execution_count": 2,
   "id": "d5c4ca7e",
   "metadata": {},
   "outputs": [
    {
     "data": {
      "text/plain": [
       "'John Ongala Lunalo'"
      ]
     },
     "execution_count": 2,
     "metadata": {},
     "output_type": "execute_result"
    }
   ],
   "source": [
    "john[\"fullname\"]"
   ]
  },
  {
   "cell_type": "code",
   "execution_count": null,
   "id": "f6a3cdd7",
   "metadata": {},
   "outputs": [],
   "source": []
  }
 ],
 "metadata": {
  "kernelspec": {
   "display_name": "Python 3 (ipykernel)",
   "language": "python",
   "name": "python3"
  },
  "language_info": {
   "codemirror_mode": {
    "name": "ipython",
    "version": 3
   },
   "file_extension": ".py",
   "mimetype": "text/x-python",
   "name": "python",
   "nbconvert_exporter": "python",
   "pygments_lexer": "ipython3",
   "version": "3.9.7"
  }
 },
 "nbformat": 4,
 "nbformat_minor": 5
}
