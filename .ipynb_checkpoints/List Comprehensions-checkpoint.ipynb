{
 "cells": [
  {
   "cell_type": "code",
   "execution_count": 1,
   "id": "b46c55e4",
   "metadata": {},
   "outputs": [],
   "source": [
    "nams = [\"John\", \"Jane\", \"Richard\"]"
   ]
  },
  {
   "cell_type": "code",
   "execution_count": 2,
   "id": "84f8b3be",
   "metadata": {},
   "outputs": [
    {
     "data": {
      "text/plain": [
       "0"
      ]
     },
     "execution_count": 2,
     "metadata": {},
     "output_type": "execute_result"
    }
   ],
   "source": [
    "nams.index(\"John\")"
   ]
  },
  {
   "cell_type": "code",
   "execution_count": 3,
   "id": "94ddfeda",
   "metadata": {},
   "outputs": [
    {
     "name": "stdout",
     "output_type": "stream",
     "text": [
      "0\n",
      "1\n",
      "2\n"
     ]
    }
   ],
   "source": [
    "for nam in nams:\n",
    "    print(nams.index(nam))"
   ]
  },
  {
   "cell_type": "code",
   "execution_count": 6,
   "id": "bc8b5413",
   "metadata": {},
   "outputs": [
    {
     "data": {
      "text/plain": [
       "[0, 1, 2]"
      ]
     },
     "execution_count": 6,
     "metadata": {},
     "output_type": "execute_result"
    }
   ],
   "source": [
    "lst_index = []\n",
    "for nam in nams:\n",
    "     lst_index.append(nams.index(nam))\n",
    "\n",
    "lst_index"
   ]
  },
  {
   "cell_type": "code",
   "execution_count": 8,
   "id": "f54de4d8",
   "metadata": {},
   "outputs": [
    {
     "name": "stdout",
     "output_type": "stream",
     "text": [
      "['KK', 'LL', 'PP']\n"
     ]
    }
   ],
   "source": [
    "sas= [\"kk\",\"ll\",\"pp\"]\n",
    "uppersas=[]\n",
    "for sa in sas:\n",
    "    uppersas.append(sa.upper())\n",
    "print(uppersas)"
   ]
  },
  {
   "cell_type": "code",
   "execution_count": 9,
   "id": "4a416317",
   "metadata": {},
   "outputs": [],
   "source": [
    "names = \"John\""
   ]
  },
  {
   "cell_type": "code",
   "execution_count": 11,
   "id": "0b0c5635",
   "metadata": {},
   "outputs": [],
   "source": [
    "import pandas as pd\n",
    "\n",
    "data_df = pd.DataFrame(\n",
    "\n",
    "    {\n",
    "      \"name\" : [\"K\", \"Y\", \"Z\"],\n",
    "        \"age\" : [12, 13,14]\n",
    "        \n",
    "    }\n",
    "\n",
    ")"
   ]
  },
  {
   "cell_type": "code",
   "execution_count": null,
   "id": "98a0d4b8",
   "metadata": {},
   "outputs": [],
   "source": [
    "sas= [\"kk\",\"ll\",\"pp\"]\n",
    "uppersas=[]"
   ]
  },
  {
   "cell_type": "code",
   "execution_count": null,
   "id": "17386eee",
   "metadata": {},
   "outputs": [],
   "source": [
    "for ind in range(len(sas))"
   ]
  },
  {
   "cell_type": "code",
   "execution_count": null,
   "id": "d52e9e99",
   "metadata": {},
   "outputs": [],
   "source": [
    "range(len(sas)"
   ]
  },
  {
   "cell_type": "code",
   "execution_count": null,
   "id": "4fbbeeb2",
   "metadata": {},
   "outputs": [],
   "source": []
  }
 ],
 "metadata": {
  "kernelspec": {
   "display_name": "Python 3 (ipykernel)",
   "language": "python",
   "name": "python3"
  },
  "language_info": {
   "codemirror_mode": {
    "name": "ipython",
    "version": 3
   },
   "file_extension": ".py",
   "mimetype": "text/x-python",
   "name": "python",
   "nbconvert_exporter": "python",
   "pygments_lexer": "ipython3",
   "version": "3.9.7"
  }
 },
 "nbformat": 4,
 "nbformat_minor": 5
}
